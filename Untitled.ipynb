{
 "cells": [
  {
   "cell_type": "code",
   "execution_count": 1,
   "id": "403d8cb7",
   "metadata": {},
   "outputs": [],
   "source": [
    "import os, shutil\n",
    "import pandas as pd\n",
    "import numpy as np\n",
    "\n",
    "import matplotlib.pyplot as plt\n",
    "%matplotlib inline\n",
    "import seaborn as sns"
   ]
  },
  {
   "cell_type": "code",
   "execution_count": 2,
   "id": "f7a65795",
   "metadata": {},
   "outputs": [],
   "source": [
    "train_normal_dir = 'chest_xray/train/NORMAL'\n",
    "train_pneumonia_dir = 'chest_xray/train/PNEUMONIA'\n",
    "test_normal_dir = 'chest_xray/test/NORMAL'\n",
    "test_pneumonia_dir = 'chest_xray/test/PNEUMONIA'\n",
    "new_dir = 'split/'"
   ]
  },
  {
   "cell_type": "code",
   "execution_count": 3,
   "id": "c9c2d940",
   "metadata": {},
   "outputs": [],
   "source": [
    "train_normal_imgs = [file for file in os.listdir(train_normal_dir) if file.endswith('.jpeg')]\n",
    "train_pneumonia_imgs = [file for file in os.listdir(train_pneumonia_dir) if file.endswith('.jpeg')]\n",
    "test_normal_imgs = [file for file in os.listdir(test_normal_dir) if file.endswith('.jpeg')]\n",
    "test_pneumonia_imgs = [file for file in os.listdir(test_pneumonia_dir) if file.endswith('.jpeg')]"
   ]
  },
  {
   "cell_type": "code",
   "execution_count": 4,
   "id": "4c51efeb",
   "metadata": {},
   "outputs": [],
   "source": [
    "os.mkdir(new_dir)"
   ]
  },
  {
   "cell_type": "code",
   "execution_count": 5,
   "id": "a61b0a64",
   "metadata": {},
   "outputs": [],
   "source": [
    "train_folder = os.path.join(new_dir, 'train')\n",
    "train_normalp = os.path.join(train_normal_dir)\n",
    "train_pneumoniap = os.path.join(train_pneumonia_dir)\n",
    "\n",
    "test_folder = os.path.join(new_dir, 'test')\n",
    "test_normalp = os.path.join(test_normal_dir)\n",
    "test_pneumoniap = os.path.join(test_pneumonia_dir)"
   ]
  },
  {
   "cell_type": "code",
   "execution_count": null,
   "id": "5c749429",
   "metadata": {},
   "outputs": [],
   "source": [
    "train_folder"
   ]
  },
  {
   "cell_type": "code",
   "execution_count": 6,
   "id": "9b532653",
   "metadata": {},
   "outputs": [],
   "source": [
    "os.mkdir(train_folder)\n",
    "os.mkdir(test_folder)"
   ]
  },
  {
   "cell_type": "code",
   "execution_count": null,
   "id": "cfb0788a",
   "metadata": {},
   "outputs": [],
   "source": []
  }
 ],
 "metadata": {
  "kernelspec": {
   "display_name": "learn-env",
   "language": "python",
   "name": "learn-env"
  },
  "language_info": {
   "codemirror_mode": {
    "name": "ipython",
    "version": 3
   },
   "file_extension": ".py",
   "mimetype": "text/x-python",
   "name": "python",
   "nbconvert_exporter": "python",
   "pygments_lexer": "ipython3",
   "version": "3.6.13"
  },
  "toc": {
   "base_numbering": 1,
   "nav_menu": {},
   "number_sections": true,
   "sideBar": true,
   "skip_h1_title": false,
   "title_cell": "Table of Contents",
   "title_sidebar": "Contents",
   "toc_cell": false,
   "toc_position": {},
   "toc_section_display": true,
   "toc_window_display": false
  }
 },
 "nbformat": 4,
 "nbformat_minor": 5
}
